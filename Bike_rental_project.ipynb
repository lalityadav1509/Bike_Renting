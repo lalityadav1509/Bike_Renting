{
 "cells": [
  {
   "cell_type": "code",
   "execution_count": 1,
   "metadata": {
    "collapsed": true
   },
   "outputs": [],
   "source": [
    "import os\n",
    "import pandas as pd\n",
    "import numpy as np"
   ]
  },
  {
   "cell_type": "code",
   "execution_count": 2,
   "metadata": {},
   "outputs": [
    {
     "data": {
      "text/plain": [
       "'D:\\\\Project_2'"
      ]
     },
     "execution_count": 2,
     "metadata": {},
     "output_type": "execute_result"
    }
   ],
   "source": [
    "#Set the working directory\n",
    "\n",
    "os.chdir(\"D:/Project_2\")\n",
    "os.getcwd()"
   ]
  },
  {
   "cell_type": "code",
   "execution_count": 3,
   "metadata": {
    "collapsed": true
   },
   "outputs": [],
   "source": [
    "bike_data = pd.read_csv(\"day.csv\", encoding = 'ISO - 8859 -1')"
   ]
  },
  {
   "cell_type": "code",
   "execution_count": 4,
   "metadata": {},
   "outputs": [
    {
     "data": {
      "text/plain": [
       "(731, 16)"
      ]
     },
     "execution_count": 4,
     "metadata": {},
     "output_type": "execute_result"
    }
   ],
   "source": [
    "bike_data.shape"
   ]
  },
  {
   "cell_type": "code",
   "execution_count": 5,
   "metadata": {},
   "outputs": [
    {
     "data": {
      "text/plain": [
       "instant       0\n",
       "dteday        0\n",
       "season        0\n",
       "yr            0\n",
       "mnth          0\n",
       "holiday       0\n",
       "weekday       0\n",
       "workingday    0\n",
       "weathersit    0\n",
       "temp          0\n",
       "atemp         0\n",
       "hum           0\n",
       "windspeed     0\n",
       "casual        0\n",
       "registered    0\n",
       "cnt           0\n",
       "dtype: int64"
      ]
     },
     "execution_count": 5,
     "metadata": {},
     "output_type": "execute_result"
    }
   ],
   "source": [
    "#Check for missing value\n",
    "bike_data.isnull().sum()\n",
    "\n",
    "#The data set does not contain any missing value"
   ]
  },
  {
   "cell_type": "code",
   "execution_count": null,
   "metadata": {},
   "outputs": [],
   "source": [
    "bike_data.info()"
   ]
  },
  {
   "cell_type": "markdown",
   "metadata": {},
   "source": [
    "# Convert the required data type "
   ]
  },
  {
   "cell_type": "code",
   "execution_count": 6,
   "metadata": {
    "collapsed": true
   },
   "outputs": [],
   "source": [
    "#Convert into category\n",
    "for col in ['season','yr','mnth','holiday','weekday','workingday','weathersit']:\n",
    "        bike_data[col] = bike_data[col].astype('object')\n",
    "        "
   ]
  },
  {
   "cell_type": "code",
   "execution_count": 7,
   "metadata": {
    "collapsed": true
   },
   "outputs": [],
   "source": [
    "#Convert into Numericals\n",
    "\n",
    "for col in ['instant','temp','atemp','hum','windspeed','casual','registered','cnt']:\n",
    "        bike_data[col] = bike_data[col].astype('float')         "
   ]
  },
  {
   "cell_type": "code",
   "execution_count": 8,
   "metadata": {
    "collapsed": true
   },
   "outputs": [],
   "source": [
    "from datetime import datetime"
   ]
  },
  {
   "cell_type": "code",
   "execution_count": 9,
   "metadata": {},
   "outputs": [
    {
     "data": {
      "text/plain": [
       "0      2011-01-01\n",
       "1      2011-01-02\n",
       "2      2011-01-03\n",
       "3      2011-01-04\n",
       "4      2011-01-05\n",
       "5      2011-01-06\n",
       "6      2011-01-07\n",
       "7      2011-01-08\n",
       "8      2011-01-09\n",
       "9      2011-01-10\n",
       "10     2011-01-11\n",
       "11     2011-01-12\n",
       "12     2011-01-13\n",
       "13     2011-01-14\n",
       "14     2011-01-15\n",
       "15     2011-01-16\n",
       "16     2011-01-17\n",
       "17     2011-01-18\n",
       "18     2011-01-19\n",
       "19     2011-01-20\n",
       "20     2011-01-21\n",
       "21     2011-01-22\n",
       "22     2011-01-23\n",
       "23     2011-01-24\n",
       "24     2011-01-25\n",
       "25     2011-01-26\n",
       "26     2011-01-27\n",
       "27     2011-01-28\n",
       "28     2011-01-29\n",
       "29     2011-01-30\n",
       "          ...    \n",
       "701    2012-12-02\n",
       "702    2012-12-03\n",
       "703    2012-12-04\n",
       "704    2012-12-05\n",
       "705    2012-12-06\n",
       "706    2012-12-07\n",
       "707    2012-12-08\n",
       "708    2012-12-09\n",
       "709    2012-12-10\n",
       "710    2012-12-11\n",
       "711    2012-12-12\n",
       "712    2012-12-13\n",
       "713    2012-12-14\n",
       "714    2012-12-15\n",
       "715    2012-12-16\n",
       "716    2012-12-17\n",
       "717    2012-12-18\n",
       "718    2012-12-19\n",
       "719    2012-12-20\n",
       "720    2012-12-21\n",
       "721    2012-12-22\n",
       "722    2012-12-23\n",
       "723    2012-12-24\n",
       "724    2012-12-25\n",
       "725    2012-12-26\n",
       "726    2012-12-27\n",
       "727    2012-12-28\n",
       "728    2012-12-29\n",
       "729    2012-12-30\n",
       "730    2012-12-31\n",
       "Name: dteday, Length: 731, dtype: object"
      ]
     },
     "execution_count": 9,
     "metadata": {},
     "output_type": "execute_result"
    }
   ],
   "source": [
    " bike_data['dteday'].apply(str)"
   ]
  },
  {
   "cell_type": "code",
   "execution_count": 10,
   "metadata": {},
   "outputs": [],
   "source": [
    "#Convetr the Date variable\n",
    "\n",
    "#bike_data['dteday'] = bike_data['dteday'].astype('Date')\n",
    "\n",
    "bike_data['dteday'] = pd.to_datetime(bike_data['dteday'])\n"
   ]
  },
  {
   "cell_type": "markdown",
   "metadata": {
    "collapsed": true
   },
   "source": [
    "# Check for missing values"
   ]
  },
  {
   "cell_type": "code",
   "execution_count": 11,
   "metadata": {},
   "outputs": [
    {
     "data": {
      "text/plain": [
       "instant       0\n",
       "dteday        0\n",
       "season        0\n",
       "yr            0\n",
       "mnth          0\n",
       "holiday       0\n",
       "weekday       0\n",
       "workingday    0\n",
       "weathersit    0\n",
       "temp          0\n",
       "atemp         0\n",
       "hum           0\n",
       "windspeed     0\n",
       "casual        0\n",
       "registered    0\n",
       "cnt           0\n",
       "dtype: int64"
      ]
     },
     "execution_count": 11,
     "metadata": {},
     "output_type": "execute_result"
    }
   ],
   "source": [
    "bike_data.isnull().sum()"
   ]
  },
  {
   "cell_type": "code",
   "execution_count": null,
   "metadata": {
    "collapsed": true
   },
   "outputs": [],
   "source": [
    "#There is no missing value present in the given dataset"
   ]
  },
  {
   "cell_type": "markdown",
   "metadata": {
    "collapsed": true
   },
   "source": [
    "# Outlier Analysis"
   ]
  },
  {
   "cell_type": "code",
   "execution_count": 12,
   "metadata": {},
   "outputs": [],
   "source": [
    "cnames = [\"instant\",\"temp\",\"atemp\",\"hum\",\"windspeed\",\"casual\",\"registered\",\"cnt\"]"
   ]
  },
  {
   "cell_type": "code",
   "execution_count": 13,
   "metadata": {},
   "outputs": [
    {
     "name": "stdout",
     "output_type": "stream",
     "text": [
      "-364.0\n",
      "1096.0\n",
      "-0.14041600000000015\n",
      "1.1329160000000003\n",
      "-0.06829675000000018\n",
      "1.0147412500000002\n",
      "0.20468725\n",
      "1.0455212500000002\n",
      "-0.012431000000000025\n",
      "0.380585\n",
      "-885.0\n",
      "2323.0\n",
      "-840.0\n",
      "8018.0\n",
      "-788.125\n",
      "9500.875\n"
     ]
    }
   ],
   "source": [
    "#Select and Remove the outliers\n",
    "\n",
    "for i in cnames:\n",
    "    q75 , q25 = np.percentile(bike_data.loc[:,i],[75,25])\n",
    "    iqr = q75  -  q25\n",
    "    \n",
    "    min = q25 - (iqr*1.5)\n",
    "    max = q75 + (iqr*1.5)\n",
    "    \n",
    "    print(min)\n",
    "    print(max)\n",
    "    \n",
    "    bike_data = bike_data.drop(bike_data[bike_data.loc[:,i] < min].index)\n",
    "    bike_data = bike_data.drop(bike_data[bike_data.loc[:,i] > max].index)"
   ]
  },
  {
   "cell_type": "code",
   "execution_count": 14,
   "metadata": {},
   "outputs": [
    {
     "name": "stdout",
     "output_type": "stream",
     "text": [
      "-788.125\n"
     ]
    }
   ],
   "source": [
    "print(min)"
   ]
  },
  {
   "cell_type": "code",
   "execution_count": 15,
   "metadata": {},
   "outputs": [
    {
     "name": "stdout",
     "output_type": "stream",
     "text": [
      "9500.875\n"
     ]
    }
   ],
   "source": [
    "print(max)"
   ]
  },
  {
   "cell_type": "code",
   "execution_count": 16,
   "metadata": {},
   "outputs": [
    {
     "data": {
      "text/plain": [
       "(676, 16)"
      ]
     },
     "execution_count": 16,
     "metadata": {},
     "output_type": "execute_result"
    }
   ],
   "source": [
    "bike_data.shape"
   ]
  },
  {
   "cell_type": "code",
   "execution_count": null,
   "metadata": {},
   "outputs": [],
   "source": [
    "#731-676\n",
    "\n",
    "#55 observations got deleted"
   ]
  },
  {
   "cell_type": "markdown",
   "metadata": {
    "collapsed": true
   },
   "source": [
    "# Feature Selection"
   ]
  },
  {
   "cell_type": "code",
   "execution_count": 17,
   "metadata": {},
   "outputs": [
    {
     "name": "stdout",
     "output_type": "stream",
     "text": [
      "<class 'pandas.core.frame.DataFrame'>\n",
      "Int64Index: 676 entries, 0 to 730\n",
      "Data columns (total 8 columns):\n",
      "instant       676 non-null float64\n",
      "temp          676 non-null float64\n",
      "atemp         676 non-null float64\n",
      "hum           676 non-null float64\n",
      "windspeed     676 non-null float64\n",
      "casual        676 non-null float64\n",
      "registered    676 non-null float64\n",
      "cnt           676 non-null float64\n",
      "dtypes: float64(8)\n",
      "memory usage: 47.5 KB\n"
     ]
    }
   ],
   "source": [
    "corr_plot = bike_data.loc[:,cnames]\n",
    "corr_plot.info()"
   ]
  },
  {
   "cell_type": "code",
   "execution_count": 18,
   "metadata": {
    "collapsed": true
   },
   "outputs": [],
   "source": [
    "import seaborn as sns"
   ]
  },
  {
   "cell_type": "code",
   "execution_count": 19,
   "metadata": {
    "collapsed": true
   },
   "outputs": [],
   "source": [
    "%matplotlib inline"
   ]
  },
  {
   "cell_type": "code",
   "execution_count": 20,
   "metadata": {},
   "outputs": [
    {
     "data": {
      "text/plain": [
       "<matplotlib.axes._subplots.AxesSubplot at 0x5802bdde10>"
      ]
     },
     "execution_count": 20,
     "metadata": {},
     "output_type": "execute_result"
    },
    {
     "data": {
      "image/png": "[encoded data removed]",
      "text/plain": [
       "<matplotlib.figure.Figure at 0x5802bdd748>"
      ]
     },
     "metadata": {},
     "output_type": "display_data"
    }
   ],
   "source": [
    "import matplotlib.pyplot as plt\n",
    "f, ax = plt.subplots(figsize=(7,5))\n",
    "\n",
    "#Generate Correlation Matrix\n",
    "\n",
    "corr = corr_plot.corr()\n",
    "\n",
    "#plot using seaborn library\n",
    "\n",
    "\n",
    "sns.heatmap(corr, mask=np.zeros_like(corr, dtype=np.bool), cmap=sns.diverging_palette(220, 50, as_cmap=True),square=True, ax=ax)\n"
   ]
  },
  {
   "cell_type": "code",
   "execution_count": 21,
   "metadata": {
    "collapsed": true
   },
   "outputs": [],
   "source": [
    "#temp and atemp can be observed as they are highly correlated\n",
    "#Thus we need to drop one of them\n",
    "#Temp is the actual temperature whereas atemp is the feeling value of temperature\n",
    "#Feeling temperature is more impprtant when it comes to real life\n",
    "\n",
    "\n",
    "#Also casual, registered and cnt are positively correlated\n",
    "#Moreover sum of casual and registered forms cnt variable"
   ]
  },
  {
   "cell_type": "code",
   "execution_count": 22,
   "metadata": {},
   "outputs": [
    {
     "data": {
      "text/plain": [
       "array(['instant', 'dteday', 'season', 'yr', 'mnth', 'holiday', 'weekday',\n",
       "       'workingday', 'weathersit', 'temp', 'atemp', 'hum', 'windspeed',\n",
       "       'casual', 'registered', 'cnt'], dtype=object)"
      ]
     },
     "execution_count": 22,
     "metadata": {},
     "output_type": "execute_result"
    }
   ],
   "source": [
    "#get variable names \n",
    "bike_data.columns.values"
   ]
  },
  {
   "cell_type": "code",
   "execution_count": 23,
   "metadata": {},
   "outputs": [],
   "source": [
    "bike_data = bike_data.drop([\"instant\",\"casual\",\"registered\",\"temp\",\"dteday\"],axis = 1)"
   ]
  },
  {
   "cell_type": "code",
   "execution_count": 24,
   "metadata": {},
   "outputs": [
    {
     "data": {
      "text/plain": [
       "array(['season', 'yr', 'mnth', 'holiday', 'weekday', 'workingday',\n",
       "       'weathersit', 'atemp', 'hum', 'windspeed', 'cnt'], dtype=object)"
      ]
     },
     "execution_count": 24,
     "metadata": {},
     "output_type": "execute_result"
    }
   ],
   "source": [
    "bike_data.columns.values"
   ]
  },
  {
   "cell_type": "code",
   "execution_count": 25,
   "metadata": {
    "collapsed": true
   },
   "outputs": [],
   "source": [
    "#Till here, our features are selected and they are already normalized.\n",
    "# We don't need to perform feature scaling\n",
    "bike_data.to_csv(\"Clean_bike_data_python.csv\",sep=\"\\t\")"
   ]
  },
  {
   "cell_type": "markdown",
   "metadata": {},
   "source": [
    "# Regression Model Development "
   ]
  },
  {
   "cell_type": "code",
   "execution_count": null,
   "metadata": {
    "collapsed": true
   },
   "outputs": [],
   "source": [
    "#__ Decision Tree Model ________"
   ]
  },
  {
   "cell_type": "code",
   "execution_count": 27,
   "metadata": {
    "collapsed": true
   },
   "outputs": [],
   "source": [
    "from random import randrange, uniform"
   ]
  },
  {
   "cell_type": "code",
   "execution_count": 28,
   "metadata": {
    "collapsed": true
   },
   "outputs": [],
   "source": [
    "import sklearn"
   ]
  },
  {
   "cell_type": "code",
   "execution_count": 29,
   "metadata": {
    "collapsed": true
   },
   "outputs": [],
   "source": [
    "from sklearn.model_selection import train_test_split"
   ]
  },
  {
   "cell_type": "code",
   "execution_count": 30,
   "metadata": {
    "collapsed": true
   },
   "outputs": [],
   "source": [
    "from sklearn.ensemble import RandomForestClassifier\n"
   ]
  },
  {
   "cell_type": "code",
   "execution_count": null,
   "metadata": {},
   "outputs": [],
   "source": [
    "bike_data = bike_data.drop([\"dteday\"],axis=1)"
   ]
  },
  {
   "cell_type": "code",
   "execution_count": 36,
   "metadata": {},
   "outputs": [],
   "source": [
    "#Divide the data into two part for training the model and testing the model\n",
    "\n",
    "x = bike_data.values[:, 0:10]\n",
    "y = bike_data.values[:,10]\n",
    "y = y.astype('int')\n",
    "\n",
    "x_train, x_test, y_train, y_test = train_test_split( x, y, test_size = 0.2)"
   ]
  },
  {
   "cell_type": "code",
   "execution_count": null,
   "metadata": {},
   "outputs": [],
   "source": []
  },
  {
   "cell_type": "code",
   "execution_count": 33,
   "metadata": {},
   "outputs": [],
   "source": [
    "from sklearn import tree"
   ]
  },
  {
   "cell_type": "code",
   "execution_count": 39,
   "metadata": {
    "collapsed": true
   },
   "outputs": [],
   "source": [
    "import numpy as np"
   ]
  },
  {
   "cell_type": "code",
   "execution_count": 37,
   "metadata": {},
   "outputs": [],
   "source": [
    "c50_model = tree.DecisionTreeClassifier(criterion='entropy').fit(x_train, y_train)\n",
    "\n"
   ]
  },
  {
   "cell_type": "code",
   "execution_count": 50,
   "metadata": {},
   "outputs": [],
   "source": [
    "#predict new test cases\n",
    "C50_Predictions = C50_model.predict(x_test)\n"
   ]
  },
  {
   "cell_type": "code",
   "execution_count": null,
   "metadata": {
    "collapsed": true
   },
   "outputs": [],
   "source": [
    "#Create a definition of RMSLE error coefficient"
   ]
  },
  {
   "cell_type": "code",
   "execution_count": 54,
   "metadata": {
    "collapsed": true
   },
   "outputs": [],
   "source": [
    "def rmsle(target, predicted):\n",
    "    log1 = np.nan_to_num(np.array([np.log(v+1) for v in target]))\n",
    "    log2 = np.nan_to_num(np.array([np.log(v + 1) for v in predicted]))\n",
    "    calc = (log1 - log2) **2\n",
    "    return np.sqrt(np.mean(calc))"
   ]
  },
  {
   "cell_type": "code",
   "execution_count": 57,
   "metadata": {},
   "outputs": [
    {
     "name": "stdout",
     "output_type": "stream",
     "text": [
      "RMSLE Value : 0.5659324062951675\n"
     ]
    }
   ],
   "source": [
    "print(\"RMSLE Value :\", rmsle(y_test,C50_Predictions))"
   ]
  },
  {
   "cell_type": "code",
   "execution_count": null,
   "metadata": {
    "collapsed": true
   },
   "outputs": [],
   "source": []
  },
  {
   "cell_type": "code",
   "execution_count": null,
   "metadata": {
    "collapsed": true
   },
   "outputs": [],
   "source": [
    "##______ RANDOM FOREST MODEL _______"
   ]
  },
  {
   "cell_type": "code",
   "execution_count": 42,
   "metadata": {},
   "outputs": [],
   "source": [
    "from sklearn.ensemble import RandomForestClassifier\n",
    "\n",
    "rf_model = RandomForestClassifier(n_estimators = 20).fit(x_train, y_train)"
   ]
  },
  {
   "cell_type": "code",
   "execution_count": null,
   "metadata": {
    "collapsed": true
   },
   "outputs": [],
   "source": [
    "#Predict values using Random Forest Model"
   ]
  },
  {
   "cell_type": "code",
   "execution_count": 43,
   "metadata": {
    "collapsed": true
   },
   "outputs": [],
   "source": [
    "rf_predictions = rf_model.predict(x_test)"
   ]
  },
  {
   "cell_type": "code",
   "execution_count": 58,
   "metadata": {},
   "outputs": [
    {
     "name": "stdout",
     "output_type": "stream",
     "text": [
      "RMSLE Value:  0.3818462350216115\n"
     ]
    }
   ],
   "source": [
    "#Check RMSLE error coefficient\n",
    "\n",
    "print(\"RMSLE Value: \", rmsle(y_test,rf_predictions))"
   ]
  },
  {
   "cell_type": "code",
   "execution_count": null,
   "metadata": {
    "collapsed": true
   },
   "outputs": [],
   "source": []
  }
 ],
 "metadata": {
  "kernelspec": {
   "display_name": "Python 3",
   "language": "python",
   "name": "python3"
  },
  "language_info": {
   "codemirror_mode": {
    "name": "ipython",
    "version": 3
   },
   "file_extension": ".py",
   "mimetype": "text/x-python",
   "name": "python",
   "nbconvert_exporter": "python",
   "pygments_lexer": "ipython3",
   "version": "3.6.3"
  }
 },
 "nbformat": 4,
 "nbformat_minor": 2
}
